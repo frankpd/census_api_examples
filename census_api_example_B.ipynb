{
 "cells": [
  {
   "cell_type": "markdown",
   "metadata": {},
   "source": [
    "# Census API Example B\n",
    "A variation of example A, this example includes an API key, dumping retrieved data to an output file, and subsequently working with data loaded from output. Without a key you are limited to 500 requests per day. By storing data after retrieval and then loading it from storage, you can make modifications to your script without having to run the api block again (assuming that you retrieved the data that you need correctly).\n",
    "\n",
    "Example uses Population Estimates 2018 Vintage:\n",
    "https://www.census.gov/data/developers/data-sets/popest-popproj/popest.Vintage_2018.html\n",
    "\n",
    "Find ANSI / FIPS codes for geographies:\n",
    "* Census Bureau: https://www.census.gov/library/reference/code-lists/ansi.html\n",
    "* MCDC: https://census.missouri.edu/geocodes/"
   ]
  },
  {
   "cell_type": "markdown",
   "metadata": {},
   "source": [
    "## Set Variables and Retrieve Data"
   ]
  },
  {
   "cell_type": "code",
   "execution_count": null,
   "metadata": {},
   "outputs": [],
   "source": [
    "%matplotlib inline\n",
    "import requests, json, pandas as pd"
   ]
  },
  {
   "cell_type": "code",
   "execution_count": null,
   "metadata": {},
   "outputs": [],
   "source": [
    "#Set variables\n",
    "year='2018'\n",
    "dsource='pep'\n",
    "dname='components'\n",
    "cols='GEONAME,NATURALINC,DOMESTICMIG,INTERNATIONALMIG'\n",
    "state='36'\n",
    "county='005,047,061,081,085'\n",
    "keyfile='census_key.txt'\n",
    "outfile='zbp2017.json'"
   ]
  },
  {
   "cell_type": "code",
   "execution_count": null,
   "metadata": {},
   "outputs": [],
   "source": [
    "base_url = f'https://api.census.gov/data/{year}/{dsource}/{dname}'\n",
    "base_url"
   ]
  },
  {
   "cell_type": "code",
   "execution_count": null,
   "metadata": {},
   "outputs": [],
   "source": [
    "#Read api key in from file\n",
    "with open(keyfile) as key:\n",
    "    api_key=key.read().strip()"
   ]
  },
  {
   "cell_type": "code",
   "execution_count": null,
   "metadata": {},
   "outputs": [],
   "source": [
    "#Retrieve data, write output when finished\n",
    "data_url = f'{base_url}?get={cols}&for=county:{county}&in=state:{state}&key={api_key}'\n",
    "response=requests.get(data_url)\n",
    "outdata=response.json()\n",
    "with open(outfile, 'w') as f:\n",
    "    json.dump(outdata, f)\n",
    "print('Data dumped to json file')\n",
    "print('File has', len(outdata), 'records')"
   ]
  },
  {
   "cell_type": "markdown",
   "metadata": {},
   "source": [
    "## Pandas Examples"
   ]
  },
  {
   "cell_type": "code",
   "execution_count": null,
   "metadata": {},
   "outputs": [],
   "source": [
    "#Load data from output file, convert to dataframe, perform some basic operations\n",
    "with open(outfile, 'r') as f:\n",
    "    data=json.load(f)\n",
    "df=pd.DataFrame(data[1:], columns=data[0]).\\\n",
    "rename(columns={\"NATURALINC\": \"Natural Increase\", \"DOMESTICMIG\": \"Net Domestic Mig\", \"INTERNATIONALMIG\":\"Net Foreign Mig\"})\n",
    "df['fips']=df.state+df.county\n",
    "df.set_index('fips',inplace=True)\n",
    "df.drop(columns=['state','county'],inplace=True)\n",
    "df=df.astype(dtype={'Natural Increase':'int64','Net Domestic Mig':'int64','Net Foreign Mig':'int64'},inplace=True)\n",
    "df"
   ]
  },
  {
   "cell_type": "code",
   "execution_count": null,
   "metadata": {},
   "outputs": [],
   "source": [
    "#Total population change 2017-2018\n",
    "df.sum(axis=1)"
   ]
  },
  {
   "cell_type": "code",
   "execution_count": null,
   "metadata": {},
   "outputs": [],
   "source": [
    "#Create a basic chart\n",
    "labels=df['GEONAME'].str.split(',',expand=True)[0].str.replace('County','')\n",
    "ax=df.plot.bar(rot=0, title='Components of Population Change 2017-18')\n",
    "ax.set_xticklabels(labels)\n",
    "ax.set_xlabel('')"
   ]
  },
  {
   "cell_type": "markdown",
   "metadata": {},
   "source": [
    "## Obtain List of Variables"
   ]
  },
  {
   "cell_type": "code",
   "execution_count": null,
   "metadata": {},
   "outputs": [],
   "source": [
    "vars_url=f'https://api.census.gov/data/{year}/{dsource}/{dname}/variables.json'\n",
    "response=requests.get(vars_url)\n",
    "\n",
    "#\"variables\" is top key in the file - reference it to flatten the file so individual variables become keys \n",
    "variables=response.json()['variables']\n",
    "variables"
   ]
  },
  {
   "cell_type": "code",
   "execution_count": null,
   "metadata": {},
   "outputs": [],
   "source": [
    "#Iterate through keys and get specific sub-values\n",
    "for k,v in variables.items():\n",
    "    print(k,v['label'])"
   ]
  },
  {
   "cell_type": "code",
   "execution_count": null,
   "metadata": {},
   "outputs": [],
   "source": [
    "#Iterate even further to capture specific code lists\n",
    "regions=variables['DIVISION']['values']['item']\n",
    "regions"
   ]
  },
  {
   "cell_type": "code",
   "execution_count": null,
   "metadata": {},
   "outputs": [],
   "source": []
  }
 ],
 "metadata": {
  "kernelspec": {
   "display_name": "Python 3",
   "language": "python",
   "name": "python3"
  },
  "language_info": {
   "codemirror_mode": {
    "name": "ipython",
    "version": 3
   },
   "file_extension": ".py",
   "mimetype": "text/x-python",
   "name": "python",
   "nbconvert_exporter": "python",
   "pygments_lexer": "ipython3",
   "version": "3.7.3"
  }
 },
 "nbformat": 4,
 "nbformat_minor": 2
}
