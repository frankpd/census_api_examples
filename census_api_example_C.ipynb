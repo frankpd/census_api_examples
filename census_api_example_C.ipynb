{
 "cells": [
  {
   "cell_type": "markdown",
   "metadata": {},
   "source": [
    "# Census API Example C\n",
    "Hard code some variables, read list of geographies in from a file, separate this list into sublists of 50 items, loop through sublists to retrieve data, write output to dataframe and csv. It's easier to read long lists of variables in from a file rather than hardcoding them. You cannot insert more than 50 variables (columns or geographies) into one request, so you need to break longer lists apart, and loop through the sublists to make multiple requests. \n",
    "\n",
    "Example uses ZIP Code Business Patterns 2017:\n",
    "https://www.census.gov/data/developers/data-sets/cbp-nonemp-zbp/zbp-api.2017.html"
   ]
  },
  {
   "cell_type": "markdown",
   "metadata": {},
   "source": [
    "## Set Variables"
   ]
  },
  {
   "cell_type": "code",
   "execution_count": null,
   "metadata": {},
   "outputs": [],
   "source": [
    "import pandas as pd, requests, os, json\n",
    "from IPython.display import clear_output"
   ]
  },
  {
   "cell_type": "code",
   "execution_count": null,
   "metadata": {},
   "outputs": [],
   "source": [
    "#Set variables\n",
    "year='2017'\n",
    "dsource='zbp'\n",
    "cols='ESTAB,EMP,PAYANN'\n",
    "geofile='nyc_zips.csv'\n",
    "outputcsv='nyc_zbpdata_2017.csv'"
   ]
  },
  {
   "cell_type": "code",
   "execution_count": null,
   "metadata": {},
   "outputs": [],
   "source": [
    "base_url = f'https://api.census.gov/data/{year}/{dsource}'\n",
    "base_url"
   ]
  },
  {
   "cell_type": "code",
   "execution_count": null,
   "metadata": {},
   "outputs": [],
   "source": [
    "#Read in file of ZIP codes\n",
    "nyczips=pd.read_csv(geofile, sep=',', dtype={'zipcodes':str})\n",
    "nyczips.head()"
   ]
  },
  {
   "cell_type": "code",
   "execution_count": null,
   "metadata": {},
   "outputs": [],
   "source": [
    "#Number of rows and columns\n",
    "nyczips.shape"
   ]
  },
  {
   "cell_type": "code",
   "execution_count": null,
   "metadata": {},
   "outputs": [],
   "source": [
    "# For item i in a range that is a length of l,\n",
    "# create an index range for l of n items\n",
    "def chunks(l, n):\n",
    "    for i in range(0, len(l), n):\n",
    "        yield l[i:i+n]"
   ]
  },
  {
   "cell_type": "code",
   "execution_count": null,
   "metadata": {},
   "outputs": [],
   "source": [
    "#Creates a list of lists, with equal number of items in each sublist\n",
    "ziplist=list(chunks(nyczips.zipcodes.tolist(),50))\n",
    "print('Number of chunks:',len(ziplist))"
   ]
  },
  {
   "cell_type": "code",
   "execution_count": null,
   "metadata": {},
   "outputs": [],
   "source": [
    "#Shows items in the first two sublists\n",
    "print(ziplist[0:2])"
   ]
  },
  {
   "cell_type": "markdown",
   "metadata": {},
   "source": [
    "## Retrieve Data"
   ]
  },
  {
   "cell_type": "code",
   "execution_count": null,
   "metadata": {},
   "outputs": [],
   "source": [
    "#Iterate through index and value of each sublist to retrieve data\n",
    "emp_data=[]\n",
    "for i, v in enumerate (ziplist):\n",
    "    batchzips=','.join(v) #Convert items in sublist to a string separated by commas\n",
    "    data_url = f'{base_url}?get={cols}&for=zipcode:{batchzips}'\n",
    "    response=requests.get(data_url)\n",
    "    if response.status_code==200: #Code 200 = success\n",
    "        clear_output(wait=True)\n",
    "        data=response.json()\n",
    "        if i == 0: #If this is the 1st sublist, we want to append everything    \n",
    "            for record in data:\n",
    "                emp_data.append(record)\n",
    "        else: #If it's not, we don't want to append the column headers again\n",
    "            for record in data[1:]:\n",
    "                emp_data.append(record) \n",
    "        print('Retrieved data for chunk',i)\n",
    "    else:\n",
    "        print('***Problem with retrieval***, response code',response.status_code)\n",
    "        break\n",
    "print('Done')"
   ]
  },
  {
   "cell_type": "code",
   "execution_count": null,
   "metadata": {},
   "outputs": [],
   "source": [
    "#Number of ZIP Codes will be different, as not all ZIPs have data\n",
    "len(emp_data)"
   ]
  },
  {
   "cell_type": "code",
   "execution_count": null,
   "metadata": {},
   "outputs": [],
   "source": [
    "#Preview nested list created from loop\n",
    "emp_data[0:5]"
   ]
  },
  {
   "cell_type": "markdown",
   "metadata": {},
   "source": [
    "## Generate Output"
   ]
  },
  {
   "cell_type": "code",
   "execution_count": null,
   "metadata": {},
   "outputs": [],
   "source": [
    "#Create dataframe from list\n",
    "empdf=pd.DataFrame(emp_data[1:], columns=emp_data[0]).rename(columns={'zip code':'zipcode'}).set_index('zipcode')\n",
    "for field in empdf.columns:\n",
    "    empdf=empdf.astype(dtype={field:'int64'})\n",
    "empdf.sort_values('EMP',ascending=False, inplace=True)\n",
    "empdf.head()"
   ]
  },
  {
   "cell_type": "code",
   "execution_count": null,
   "metadata": {},
   "outputs": [],
   "source": [
    "#Write data out to csv file\n",
    "empdf.to_csv(outputcsv)"
   ]
  },
  {
   "cell_type": "code",
   "execution_count": null,
   "metadata": {},
   "outputs": [],
   "source": []
  }
 ],
 "metadata": {
  "kernelspec": {
   "display_name": "Python 3",
   "language": "python",
   "name": "python3"
  },
  "language_info": {
   "codemirror_mode": {
    "name": "ipython",
    "version": 3
   },
   "file_extension": ".py",
   "mimetype": "text/x-python",
   "name": "python",
   "nbconvert_exporter": "python",
   "pygments_lexer": "ipython3",
   "version": "3.6.9"
  }
 },
 "nbformat": 4,
 "nbformat_minor": 2
}
