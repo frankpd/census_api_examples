{
 "cells": [
  {
   "cell_type": "markdown",
   "metadata": {},
   "source": [
    "# Census API Example C\n",
    "Hard code some variables, read list of geographies in from a file, separate this list into sublists of 50 items, loop through sublists to retrieve data, write output to dataframe and csv. It's easier to read long lists of variables in from a file rather than hardcoding them. You cannot insert more than 50 variables (columns or geographies) into one request, so you need to break longer lists apart, and loop through the sublists to make multiple requests. \n",
    "\n",
    "Example uses ZIP Code Business Patterns 2017:\n",
    "https://www.census.gov/data/developers/data-sets/cbp-nonemp-zbp/zbp-api.2017.html"
   ]
  },
  {
   "cell_type": "markdown",
   "metadata": {},
   "source": [
    "## Set Variables"
   ]
  },
  {
   "cell_type": "code",
   "execution_count": 1,
   "metadata": {},
   "outputs": [],
   "source": [
    "import pandas as pd, requests, os, json\n",
    "from IPython.display import clear_output"
   ]
  },
  {
   "cell_type": "code",
   "execution_count": 2,
   "metadata": {},
   "outputs": [],
   "source": [
    "#Set variables\n",
    "year='2017'\n",
    "dsource='zbp'\n",
    "cols='ESTAB,EMP,PAYANN'\n",
    "geofile='nyc_zips.csv'\n",
    "outputcsv='nyc_zbpdata_2017.csv'"
   ]
  },
  {
   "cell_type": "code",
   "execution_count": 3,
   "metadata": {},
   "outputs": [
    {
     "data": {
      "text/plain": [
       "'https://api.census.gov/data/2017/zbp'"
      ]
     },
     "execution_count": 3,
     "metadata": {},
     "output_type": "execute_result"
    }
   ],
   "source": [
    "base_url = f'https://api.census.gov/data/{year}/{dsource}'\n",
    "base_url"
   ]
  },
  {
   "cell_type": "code",
   "execution_count": 4,
   "metadata": {},
   "outputs": [
    {
     "data": {
      "text/html": [
       "<div>\n",
       "<style scoped>\n",
       "    .dataframe tbody tr th:only-of-type {\n",
       "        vertical-align: middle;\n",
       "    }\n",
       "\n",
       "    .dataframe tbody tr th {\n",
       "        vertical-align: top;\n",
       "    }\n",
       "\n",
       "    .dataframe thead th {\n",
       "        text-align: right;\n",
       "    }\n",
       "</style>\n",
       "<table border=\"1\" class=\"dataframe\">\n",
       "  <thead>\n",
       "    <tr style=\"text-align: right;\">\n",
       "      <th></th>\n",
       "      <th>zipcodes</th>\n",
       "    </tr>\n",
       "  </thead>\n",
       "  <tbody>\n",
       "    <tr>\n",
       "      <th>0</th>\n",
       "      <td>10001</td>\n",
       "    </tr>\n",
       "    <tr>\n",
       "      <th>1</th>\n",
       "      <td>10118</td>\n",
       "    </tr>\n",
       "    <tr>\n",
       "      <th>2</th>\n",
       "      <td>10120</td>\n",
       "    </tr>\n",
       "    <tr>\n",
       "      <th>3</th>\n",
       "      <td>10122</td>\n",
       "    </tr>\n",
       "    <tr>\n",
       "      <th>4</th>\n",
       "      <td>10123</td>\n",
       "    </tr>\n",
       "  </tbody>\n",
       "</table>\n",
       "</div>"
      ],
      "text/plain": [
       "  zipcodes\n",
       "0    10001\n",
       "1    10118\n",
       "2    10120\n",
       "3    10122\n",
       "4    10123"
      ]
     },
     "execution_count": 4,
     "metadata": {},
     "output_type": "execute_result"
    }
   ],
   "source": [
    "#Read in file of ZIP codes\n",
    "nyczips=pd.read_csv(geofile, sep=',', dtype={'zipcodes':str})\n",
    "nyczips.head()"
   ]
  },
  {
   "cell_type": "code",
   "execution_count": 5,
   "metadata": {},
   "outputs": [
    {
     "data": {
      "text/plain": [
       "(317, 1)"
      ]
     },
     "execution_count": 5,
     "metadata": {},
     "output_type": "execute_result"
    }
   ],
   "source": [
    "#Number of rows and columns\n",
    "nyczips.shape"
   ]
  },
  {
   "cell_type": "code",
   "execution_count": 6,
   "metadata": {},
   "outputs": [],
   "source": [
    "# For item i in a range that is a length of l,\n",
    "# create an index range for l of n items\n",
    "def chunks(l, n):\n",
    "    for i in range(0, len(l), n):\n",
    "        yield l[i:i+n]"
   ]
  },
  {
   "cell_type": "code",
   "execution_count": 7,
   "metadata": {},
   "outputs": [
    {
     "name": "stdout",
     "output_type": "stream",
     "text": [
      "Number of chunks: 7\n"
     ]
    }
   ],
   "source": [
    "#Creates a list of lists, with equal number of items in each sublist\n",
    "ziplist=list(chunks(nyczips.zipcodes.tolist(),50))\n",
    "print('Number of chunks:',len(ziplist))"
   ]
  },
  {
   "cell_type": "code",
   "execution_count": 8,
   "metadata": {},
   "outputs": [
    {
     "name": "stdout",
     "output_type": "stream",
     "text": [
      "[['10001', '10118', '10120', '10122', '10123', '10125', '10130', '10002', '10003', '10114', '10276', '10004', '10041', '10045', '10274', '10275', '10005', '10043', '10081', '10203', '10257', '10260', '10265', '10268', '10269', '10270', '10286', '10006', '10256', '10007', '10008', '10242', '10249', '10009', '10010', '10159', '10160', '10011', '10113', '10161', '10012', '10013', '10213', '10014', '10016', '10138', '10156', '10157', '10158', '10017'], ['10087', '10163', '10164', '10166', '10175', '10178', '10179', '10259', '10261', '10018', '10129', '10019', '10101', '10102', '10104', '10105', '10106', '10107', '10020', '10021', '10131', '10022', '10055', '10126', '10150', '10151', '10155', '10023', '10133', '10024', '10132', '10025', '10026', '10027', '10116', '10028', '10029', '10030', '10031', '10032', '10033', '10034', '10035', '10036', '10108', '10109', '10176', '10185', '10037', '10038']]\n"
     ]
    }
   ],
   "source": [
    "#Shows items in the first two sublists\n",
    "print(ziplist[0:2])"
   ]
  },
  {
   "cell_type": "markdown",
   "metadata": {},
   "source": [
    "## Retrieve Data"
   ]
  },
  {
   "cell_type": "code",
   "execution_count": 9,
   "metadata": {},
   "outputs": [
    {
     "name": "stdout",
     "output_type": "stream",
     "text": [
      "Retrieved data for chunk 6\n",
      "Done\n"
     ]
    }
   ],
   "source": [
    "#Iterate through index and value of each sublist to retrieve data\n",
    "emp_data=[]\n",
    "for i, v in enumerate (ziplist):\n",
    "    batchzips=','.join(v) #Convert items in sublist to a string separated by commas\n",
    "    data_url = f'{base_url}?get={cols}&for=zipcode:{batchzips}'\n",
    "    response=requests.get(data_url)\n",
    "    if response.status_code==200: #Code 200 = success\n",
    "        clear_output(wait=True)\n",
    "        data=response.json()\n",
    "        if i == 0: #If this is the 1st sublist, we want to append everything    \n",
    "            for record in data:\n",
    "                emp_data.append(record)\n",
    "        else: #If it's not, we don't want to append the column headers again\n",
    "            for record in data[1:]:\n",
    "                emp_data.append(record) \n",
    "        print('Retrieved data for chunk',i)\n",
    "    else:\n",
    "        print('***Problem with retrieval***, response code',response.status_code)\n",
    "        break\n",
    "print('Done')"
   ]
  },
  {
   "cell_type": "code",
   "execution_count": 10,
   "metadata": {},
   "outputs": [
    {
     "data": {
      "text/plain": [
       "267"
      ]
     },
     "execution_count": 10,
     "metadata": {},
     "output_type": "execute_result"
    }
   ],
   "source": [
    "#Number of ZIP Codes will be different, as not all ZIPs have data\n",
    "len(emp_data)"
   ]
  },
  {
   "cell_type": "code",
   "execution_count": 11,
   "metadata": {},
   "outputs": [
    {
     "data": {
      "text/plain": [
       "[['ESTAB', 'EMP', 'PAYANN', 'zip code'],\n",
       " ['336', '6587', '775684', '10118'],\n",
       " ['69', '1300', '121640', '10120'],\n",
       " ['172', '2021', '148853', '10122'],\n",
       " ['177', '1949', '193696', '10123']]"
      ]
     },
     "execution_count": 11,
     "metadata": {},
     "output_type": "execute_result"
    }
   ],
   "source": [
    "#Preview nested list created from loop\n",
    "emp_data[0:5]"
   ]
  },
  {
   "cell_type": "markdown",
   "metadata": {},
   "source": [
    "## Generate Output"
   ]
  },
  {
   "cell_type": "code",
   "execution_count": 12,
   "metadata": {},
   "outputs": [
    {
     "data": {
      "text/html": [
       "<div>\n",
       "<style scoped>\n",
       "    .dataframe tbody tr th:only-of-type {\n",
       "        vertical-align: middle;\n",
       "    }\n",
       "\n",
       "    .dataframe tbody tr th {\n",
       "        vertical-align: top;\n",
       "    }\n",
       "\n",
       "    .dataframe thead th {\n",
       "        text-align: right;\n",
       "    }\n",
       "</style>\n",
       "<table border=\"1\" class=\"dataframe\">\n",
       "  <thead>\n",
       "    <tr style=\"text-align: right;\">\n",
       "      <th></th>\n",
       "      <th>ESTAB</th>\n",
       "      <th>EMP</th>\n",
       "      <th>PAYANN</th>\n",
       "    </tr>\n",
       "    <tr>\n",
       "      <th>zipcode</th>\n",
       "      <th></th>\n",
       "      <th></th>\n",
       "      <th></th>\n",
       "    </tr>\n",
       "  </thead>\n",
       "  <tbody>\n",
       "    <tr>\n",
       "      <th>10036</th>\n",
       "      <td>6102</td>\n",
       "      <td>178598</td>\n",
       "      <td>23348581</td>\n",
       "    </tr>\n",
       "    <tr>\n",
       "      <th>10001</th>\n",
       "      <td>7277</td>\n",
       "      <td>153375</td>\n",
       "      <td>10437332</td>\n",
       "    </tr>\n",
       "    <tr>\n",
       "      <th>10019</th>\n",
       "      <td>4782</td>\n",
       "      <td>151434</td>\n",
       "      <td>23024243</td>\n",
       "    </tr>\n",
       "    <tr>\n",
       "      <th>10017</th>\n",
       "      <td>4979</td>\n",
       "      <td>148113</td>\n",
       "      <td>22369544</td>\n",
       "    </tr>\n",
       "    <tr>\n",
       "      <th>10022</th>\n",
       "      <td>6239</td>\n",
       "      <td>141761</td>\n",
       "      <td>24364428</td>\n",
       "    </tr>\n",
       "  </tbody>\n",
       "</table>\n",
       "</div>"
      ],
      "text/plain": [
       "         ESTAB     EMP    PAYANN\n",
       "zipcode                         \n",
       "10036     6102  178598  23348581\n",
       "10001     7277  153375  10437332\n",
       "10019     4782  151434  23024243\n",
       "10017     4979  148113  22369544\n",
       "10022     6239  141761  24364428"
      ]
     },
     "execution_count": 12,
     "metadata": {},
     "output_type": "execute_result"
    }
   ],
   "source": [
    "#Create dataframe from list\n",
    "empdf=pd.DataFrame(emp_data[1:], columns=emp_data[0]).rename(columns={'zip code':'zipcode'}).set_index('zipcode')\n",
    "for field in empdf.columns:\n",
    "    empdf=empdf.astype(dtype={field:'int64'})\n",
    "empdf.sort_values('EMP',ascending=False, inplace=True)\n",
    "empdf.head()"
   ]
  },
  {
   "cell_type": "code",
   "execution_count": 13,
   "metadata": {},
   "outputs": [],
   "source": [
    "#Write data out to csv file\n",
    "empdf.to_csv(outputcsv)"
   ]
  },
  {
   "cell_type": "code",
   "execution_count": null,
   "metadata": {},
   "outputs": [],
   "source": []
  }
 ],
 "metadata": {
  "kernelspec": {
   "display_name": "Python 3",
   "language": "python",
   "name": "python3"
  },
  "language_info": {
   "codemirror_mode": {
    "name": "ipython",
    "version": 3
   },
   "file_extension": ".py",
   "mimetype": "text/x-python",
   "name": "python",
   "nbconvert_exporter": "python",
   "pygments_lexer": "ipython3",
   "version": "3.6.9"
  }
 },
 "nbformat": 4,
 "nbformat_minor": 2
}
