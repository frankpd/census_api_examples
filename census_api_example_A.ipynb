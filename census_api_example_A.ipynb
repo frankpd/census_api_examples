{
 "cells": [
  {
   "cell_type": "markdown",
   "metadata": {},
   "source": [
    "# Census API Example A\n",
    "Hard code variables, build a url, retrieve data, perform basic pandas operations, retrieve variable metadata.\n",
    "\n",
    "Example uses Population Estimates 2018 Vintage:\n",
    "https://www.census.gov/data/developers/data-sets/popest-popproj/popest.Vintage_2018.html\n",
    "\n",
    "Find ANSI / FIPS codes for geographies:\n",
    "* Census Bureau: https://www.census.gov/library/reference/code-lists/ansi.html\n",
    "* MCDC: https://census.missouri.edu/geocodes/"
   ]
  },
  {
   "cell_type": "markdown",
   "metadata": {},
   "source": [
    "## Set Variables and Retrieve Data"
   ]
  },
  {
   "cell_type": "code",
   "execution_count": 1,
   "metadata": {},
   "outputs": [],
   "source": [
    "%matplotlib inline\n",
    "import requests, pandas as pd"
   ]
  },
  {
   "cell_type": "code",
   "execution_count": 2,
   "metadata": {},
   "outputs": [],
   "source": [
    "#Set variables\n",
    "year='2018'\n",
    "dsource='pep'\n",
    "dname='components'\n",
    "cols='GEONAME,NATURALINC,DOMESTICMIG,INTERNATIONALMIG'\n",
    "state='36'\n",
    "county='005,047,061,081,085'"
   ]
  },
  {
   "cell_type": "code",
   "execution_count": 3,
   "metadata": {},
   "outputs": [
    {
     "data": {
      "text/plain": [
       "'https://api.census.gov/data/2018/pep/components'"
      ]
     },
     "execution_count": 3,
     "metadata": {},
     "output_type": "execute_result"
    }
   ],
   "source": [
    "base_url = f'https://api.census.gov/data/{year}/{dsource}/{dname}'\n",
    "base_url"
   ]
  },
  {
   "cell_type": "code",
   "execution_count": 4,
   "metadata": {},
   "outputs": [
    {
     "data": {
      "text/plain": [
       "'https://api.census.gov/data/2018/pep/components?get=GEONAME,NATURALINC,DOMESTICMIG,INTERNATIONALMIG&for=county:005,047,061,081,085&in=state:36'"
      ]
     },
     "execution_count": 4,
     "metadata": {},
     "output_type": "execute_result"
    }
   ],
   "source": [
    "data_url = f'{base_url}?get={cols}&for=county:{county}&in=state:{state}'\n",
    "data_url"
   ]
  },
  {
   "cell_type": "code",
   "execution_count": 5,
   "metadata": {},
   "outputs": [
    {
     "name": "stdout",
     "output_type": "stream",
     "text": [
      "[[\"GEONAME\",\"NATURALINC\",\"DOMESTICMIG\",\"INTERNATIONALMIG\",\"state\",\"county\"],\n",
      "[\"Bronx County, New York\",\"12051\",\"-16304\",\"13346\",\"36\",\"005\"],\n",
      "[\"Kings County, New York\",\"26189\",\"-34171\",\"15814\",\"36\",\"047\"],\n",
      "[\"New York County, New York\",\"8083\",\"-14389\",\"12159\",\"36\",\"061\"],\n",
      "[\"Queens County, New York\",\"15810\",\"-26359\",\"17912\",\"36\",\"081\"],\n",
      "[\"Richmond County, New York\",\"1539\",\"-1967\",\"898\",\"36\",\"085\"]]\n"
     ]
    }
   ],
   "source": [
    "#Retrieve Data\n",
    "response=requests.get(data_url)\n",
    "print(response.text)"
   ]
  },
  {
   "cell_type": "code",
   "execution_count": 6,
   "metadata": {},
   "outputs": [
    {
     "data": {
      "text/plain": [
       "[['GEONAME',\n",
       "  'NATURALINC',\n",
       "  'DOMESTICMIG',\n",
       "  'INTERNATIONALMIG',\n",
       "  'state',\n",
       "  'county'],\n",
       " ['Bronx County, New York', '12051', '-16304', '13346', '36', '005'],\n",
       " ['Kings County, New York', '26189', '-34171', '15814', '36', '047'],\n",
       " ['New York County, New York', '8083', '-14389', '12159', '36', '061'],\n",
       " ['Queens County, New York', '15810', '-26359', '17912', '36', '081'],\n",
       " ['Richmond County, New York', '1539', '-1967', '898', '36', '085']]"
      ]
     },
     "execution_count": 6,
     "metadata": {},
     "output_type": "execute_result"
    }
   ],
   "source": [
    "#Save response as json object\n",
    "data=response.json()\n",
    "data"
   ]
  },
  {
   "cell_type": "markdown",
   "metadata": {},
   "source": [
    "## Pandas Examples"
   ]
  },
  {
   "cell_type": "code",
   "execution_count": 7,
   "metadata": {},
   "outputs": [
    {
     "data": {
      "text/html": [
       "<div>\n",
       "<style scoped>\n",
       "    .dataframe tbody tr th:only-of-type {\n",
       "        vertical-align: middle;\n",
       "    }\n",
       "\n",
       "    .dataframe tbody tr th {\n",
       "        vertical-align: top;\n",
       "    }\n",
       "\n",
       "    .dataframe thead th {\n",
       "        text-align: right;\n",
       "    }\n",
       "</style>\n",
       "<table border=\"1\" class=\"dataframe\">\n",
       "  <thead>\n",
       "    <tr style=\"text-align: right;\">\n",
       "      <th></th>\n",
       "      <th>GEONAME</th>\n",
       "      <th>Natural Increase</th>\n",
       "      <th>Net Domestic Mig</th>\n",
       "      <th>Net Foreign Mig</th>\n",
       "    </tr>\n",
       "    <tr>\n",
       "      <th>fips</th>\n",
       "      <th></th>\n",
       "      <th></th>\n",
       "      <th></th>\n",
       "      <th></th>\n",
       "    </tr>\n",
       "  </thead>\n",
       "  <tbody>\n",
       "    <tr>\n",
       "      <th>36005</th>\n",
       "      <td>Bronx County, New York</td>\n",
       "      <td>12051</td>\n",
       "      <td>-16304</td>\n",
       "      <td>13346</td>\n",
       "    </tr>\n",
       "    <tr>\n",
       "      <th>36047</th>\n",
       "      <td>Kings County, New York</td>\n",
       "      <td>26189</td>\n",
       "      <td>-34171</td>\n",
       "      <td>15814</td>\n",
       "    </tr>\n",
       "    <tr>\n",
       "      <th>36061</th>\n",
       "      <td>New York County, New York</td>\n",
       "      <td>8083</td>\n",
       "      <td>-14389</td>\n",
       "      <td>12159</td>\n",
       "    </tr>\n",
       "    <tr>\n",
       "      <th>36081</th>\n",
       "      <td>Queens County, New York</td>\n",
       "      <td>15810</td>\n",
       "      <td>-26359</td>\n",
       "      <td>17912</td>\n",
       "    </tr>\n",
       "    <tr>\n",
       "      <th>36085</th>\n",
       "      <td>Richmond County, New York</td>\n",
       "      <td>1539</td>\n",
       "      <td>-1967</td>\n",
       "      <td>898</td>\n",
       "    </tr>\n",
       "  </tbody>\n",
       "</table>\n",
       "</div>"
      ],
      "text/plain": [
       "                         GEONAME  Natural Increase  Net Domestic Mig  \\\n",
       "fips                                                                   \n",
       "36005     Bronx County, New York             12051            -16304   \n",
       "36047     Kings County, New York             26189            -34171   \n",
       "36061  New York County, New York              8083            -14389   \n",
       "36081    Queens County, New York             15810            -26359   \n",
       "36085  Richmond County, New York              1539             -1967   \n",
       "\n",
       "       Net Foreign Mig  \n",
       "fips                    \n",
       "36005            13346  \n",
       "36047            15814  \n",
       "36061            12159  \n",
       "36081            17912  \n",
       "36085              898  "
      ]
     },
     "execution_count": 7,
     "metadata": {},
     "output_type": "execute_result"
    }
   ],
   "source": [
    "#Convert to dataframe, perform some basic operations\n",
    "df=pd.DataFrame(data[1:], columns=data[0]).\\\n",
    "rename(columns={\"NATURALINC\": \"Natural Increase\", \"DOMESTICMIG\": \"Net Domestic Mig\", \"INTERNATIONALMIG\":\"Net Foreign Mig\"})\n",
    "df['fips']=df.state+df.county\n",
    "df.set_index('fips',inplace=True)\n",
    "df.drop(columns=['state','county'],inplace=True)\n",
    "df=df.astype(dtype={'Natural Increase':'int64','Net Domestic Mig':'int64','Net Foreign Mig':'int64'})\n",
    "df"
   ]
  },
  {
   "cell_type": "code",
   "execution_count": 8,
   "metadata": {},
   "outputs": [
    {
     "data": {
      "text/plain": [
       "fips\n",
       "36005    9093\n",
       "36047    7832\n",
       "36061    5853\n",
       "36081    7363\n",
       "36085     470\n",
       "dtype: int64"
      ]
     },
     "execution_count": 8,
     "metadata": {},
     "output_type": "execute_result"
    }
   ],
   "source": [
    "#Total population change 2017-2018\n",
    "df.sum(axis=1)"
   ]
  },
  {
   "cell_type": "code",
   "execution_count": 9,
   "metadata": {},
   "outputs": [
    {
     "data": {
      "text/plain": [
       "Text(0.5,0,'')"
      ]
     },
     "execution_count": 9,
     "metadata": {},
     "output_type": "execute_result"
    },
    {
     "data": {
      "image/png": "[encoded data removed]",
      "text/plain": [
       "<matplotlib.figure.Figure at 0x7f53009ec8d0>"
      ]
     },
     "metadata": {},
     "output_type": "display_data"
    }
   ],
   "source": [
    "#Create a basic chart\n",
    "labels=df['GEONAME'].str.split(',',expand=True)[0].str.replace('County','')\n",
    "ax=df.plot.bar(rot=0, title='Components of Population Change 2017-18')\n",
    "ax.set_xticklabels(labels)\n",
    "ax.set_xlabel('')"
   ]
  },
  {
   "cell_type": "markdown",
   "metadata": {},
   "source": [
    "## Obtain List of Variables"
   ]
  },
  {
   "cell_type": "code",
   "execution_count": 10,
   "metadata": {},
   "outputs": [
    {
     "data": {
      "text/plain": [
       "{'for': {'label': \"Census API FIPS 'for' clause\",\n",
       "  'concept': 'Census API Geography Specification',\n",
       "  'predicateType': 'fips-for',\n",
       "  'group': 'N/A',\n",
       "  'limit': 0,\n",
       "  'predicateOnly': True},\n",
       " 'in': {'label': \"Census API FIPS 'in' clause\",\n",
       "  'concept': 'Census API Geography Specification',\n",
       "  'predicateType': 'fips-in',\n",
       "  'group': 'N/A',\n",
       "  'limit': 0,\n",
       "  'predicateOnly': True},\n",
       " 'ucgid': {'label': 'Uniform Census Geography Identifier clause',\n",
       "  'concept': 'Census API Geography Specification',\n",
       "  'predicateType': 'ucgid',\n",
       "  'group': 'N/A',\n",
       "  'limit': 0,\n",
       "  'predicateOnly': True},\n",
       " 'NETMIG': {'label': 'Net migration in period',\n",
       "  'predicateType': 'int',\n",
       "  'group': 'N/A',\n",
       "  'limit': 0},\n",
       " 'SUMLEV': {'label': 'Summary Level',\n",
       "  'predicateType': 'string',\n",
       "  'group': 'N/A',\n",
       "  'limit': 0},\n",
       " 'RDEATH': {'label': 'Death rate in period',\n",
       "  'predicateType': 'int',\n",
       "  'group': 'N/A',\n",
       "  'limit': 0},\n",
       " 'STATE': {'label': 'State FIPS code', 'group': 'N/A', 'limit': 0},\n",
       " 'DEATHS': {'label': 'Deaths in period',\n",
       "  'predicateType': 'int',\n",
       "  'group': 'N/A',\n",
       "  'limit': 0},\n",
       " 'RDOMESTICMIG': {'label': 'Net domestic migration rate in period',\n",
       "  'predicateType': 'int',\n",
       "  'group': 'N/A',\n",
       "  'limit': 0},\n",
       " 'DIVISION': {'label': 'Census Division Code',\n",
       "  'predicateType': 'int',\n",
       "  'group': 'N/A',\n",
       "  'limit': 0,\n",
       "  'values': {'item': {'9': 'Pacific',\n",
       "    '8': 'Mountain',\n",
       "    '7': 'West South Central',\n",
       "    '6': 'East South Central',\n",
       "    '5': 'South Atlantic',\n",
       "    '4': 'West North Central',\n",
       "    '3': 'East North Central',\n",
       "    '2': 'Middle Atlantic',\n",
       "    '1': 'New England'}}},\n",
       " 'CSA': {'label': 'Combined Statistical Area code',\n",
       "  'group': 'N/A',\n",
       "  'limit': 0},\n",
       " 'LASTUPDATE': {'label': 'Last Update',\n",
       "  'predicateType': 'string',\n",
       "  'group': 'N/A',\n",
       "  'limit': 0},\n",
       " 'NATION': {'label': 'Nation', 'group': 'N/A', 'limit': 0},\n",
       " 'PERIOD_DESC': {'label': 'Description of PERIOD values',\n",
       "  'predicateType': 'string',\n",
       "  'group': 'N/A',\n",
       "  'limit': 0},\n",
       " 'RNATURALINC': {'label': 'Natural increase rate in period',\n",
       "  'predicateType': 'int',\n",
       "  'group': 'N/A',\n",
       "  'limit': 0},\n",
       " 'DOMESTICMIG': {'label': 'Net domestic migration in period',\n",
       "  'predicateType': 'int',\n",
       "  'group': 'N/A',\n",
       "  'limit': 0},\n",
       " 'UNIVERSE': {'label': 'Universe',\n",
       "  'required': 'default displayed',\n",
       "  'predicateType': 'string',\n",
       "  'group': 'N/A',\n",
       "  'limit': 0,\n",
       "  'values': {'item': {'N': 'Civilian noninstitutionalized population',\n",
       "    'C': 'Civilian population',\n",
       "    'H': 'Household population',\n",
       "    'P': 'Resident population plus Armed Forces overseas',\n",
       "    'R': 'Resident population'}}},\n",
       " 'BIRTHS': {'label': 'Births in period', 'group': 'N/A', 'limit': 0},\n",
       " 'COUNTY': {'label': 'County FIPS code', 'group': 'N/A', 'limit': 0},\n",
       " 'MDIV': {'label': 'Metropolitan Division code', 'group': 'N/A', 'limit': 0},\n",
       " 'GEONAME': {'label': 'Geographic Name', 'group': 'N/A', 'limit': 0},\n",
       " 'RNETMIG': {'label': 'Net migration rate in period',\n",
       "  'predicateType': 'int',\n",
       "  'group': 'N/A',\n",
       "  'limit': 0},\n",
       " 'REGION': {'label': 'Census Regional Code',\n",
       "  'predicateType': 'int',\n",
       "  'group': 'N/A',\n",
       "  'limit': 0,\n",
       "  'values': {'item': {'4': 'West',\n",
       "    '3': 'South',\n",
       "    '2': 'Midwest',\n",
       "    '1': 'Northeast'}}},\n",
       " 'NATURALINC': {'label': 'Natural increase in period',\n",
       "  'predicateType': 'int',\n",
       "  'group': 'N/A',\n",
       "  'limit': 0},\n",
       " 'GEO_ID': {'label': 'Geographic identifier code',\n",
       "  'predicateType': 'string',\n",
       "  'group': 'N/A',\n",
       "  'limit': 0},\n",
       " 'RESIDUAL': {'label': 'Residual for period',\n",
       "  'predicateType': 'int',\n",
       "  'group': 'N/A',\n",
       "  'limit': 0},\n",
       " 'INTERNATIONALMIG': {'label': 'Net international migration in period',\n",
       "  'predicateType': 'int',\n",
       "  'group': 'N/A',\n",
       "  'limit': 0},\n",
       " 'CBSA': {'label': 'Metropolitan Statistical Area/Micropolitan Statistical Area code',\n",
       "  'group': 'N/A',\n",
       "  'limit': 0},\n",
       " 'RINTERNATIONALMIG': {'label': 'Net international migration rate in period',\n",
       "  'predicateType': 'int',\n",
       "  'group': 'N/A',\n",
       "  'limit': 0},\n",
       " 'RBIRTH': {'label': 'Birth rate in period',\n",
       "  'predicateType': 'int',\n",
       "  'group': 'N/A',\n",
       "  'limit': 0},\n",
       " 'PERIOD_CODE': {'label': 'Period',\n",
       "  'required': 'default displayed',\n",
       "  'predicateType': 'int',\n",
       "  'group': 'N/A',\n",
       "  'limit': 0,\n",
       "  'values': {'item': {'11': '7/1/2019 to 6/30/2020',\n",
       "    '10': '7/1/2018 to 6/30/2019',\n",
       "    '9': '7/1/2017 to 6/30/2018',\n",
       "    '8': '7/1/2016 to 6/30/2017',\n",
       "    '7': '7/1/2015 to 6/30/2016',\n",
       "    '6': '7/1/2014 to 6/30/2015',\n",
       "    '5': '7/1/2013 to 6/30/2014',\n",
       "    '4': '7/1/2012 to 6/30/2013',\n",
       "    '3': '7/1/2011 to 6/30/2012',\n",
       "    '2': '7/1/2010 to 6/30/2011',\n",
       "    '1': '4/1/2010 to 6/30/2010'}}}}"
      ]
     },
     "execution_count": 10,
     "metadata": {},
     "output_type": "execute_result"
    }
   ],
   "source": [
    "vars_url=f'https://api.census.gov/data/{year}/{dsource}/{dname}/variables.json'\n",
    "response=requests.get(vars_url)\n",
    "\n",
    "#\"variables\" is top key in the file - reference it to flatten the file so individual variables become keys \n",
    "variables=response.json()['variables']\n",
    "variables"
   ]
  },
  {
   "cell_type": "code",
   "execution_count": 11,
   "metadata": {},
   "outputs": [
    {
     "name": "stdout",
     "output_type": "stream",
     "text": [
      "for Census API FIPS 'for' clause\n",
      "in Census API FIPS 'in' clause\n",
      "ucgid Uniform Census Geography Identifier clause\n",
      "NETMIG Net migration in period\n",
      "SUMLEV Summary Level\n",
      "RDEATH Death rate in period\n",
      "STATE State FIPS code\n",
      "DEATHS Deaths in period\n",
      "RDOMESTICMIG Net domestic migration rate in period\n",
      "DIVISION Census Division Code\n",
      "CSA Combined Statistical Area code\n",
      "LASTUPDATE Last Update\n",
      "NATION Nation\n",
      "PERIOD_DESC Description of PERIOD values\n",
      "RNATURALINC Natural increase rate in period\n",
      "DOMESTICMIG Net domestic migration in period\n",
      "UNIVERSE Universe\n",
      "BIRTHS Births in period\n",
      "COUNTY County FIPS code\n",
      "MDIV Metropolitan Division code\n",
      "GEONAME Geographic Name\n",
      "RNETMIG Net migration rate in period\n",
      "REGION Census Regional Code\n",
      "NATURALINC Natural increase in period\n",
      "GEO_ID Geographic identifier code\n",
      "RESIDUAL Residual for period\n",
      "INTERNATIONALMIG Net international migration in period\n",
      "CBSA Metropolitan Statistical Area/Micropolitan Statistical Area code\n",
      "RINTERNATIONALMIG Net international migration rate in period\n",
      "RBIRTH Birth rate in period\n",
      "PERIOD_CODE Period\n"
     ]
    }
   ],
   "source": [
    "#Iterate through keys and get specific sub-values\n",
    "for k,v in variables.items():\n",
    "    print(k,v['label'])"
   ]
  },
  {
   "cell_type": "code",
   "execution_count": 12,
   "metadata": {},
   "outputs": [
    {
     "data": {
      "text/plain": [
       "{'9': 'Pacific',\n",
       " '8': 'Mountain',\n",
       " '7': 'West South Central',\n",
       " '6': 'East South Central',\n",
       " '5': 'South Atlantic',\n",
       " '4': 'West North Central',\n",
       " '3': 'East North Central',\n",
       " '2': 'Middle Atlantic',\n",
       " '1': 'New England'}"
      ]
     },
     "execution_count": 12,
     "metadata": {},
     "output_type": "execute_result"
    }
   ],
   "source": [
    "#Iterate even further to capture specific code lists\n",
    "regions=variables['DIVISION']['values']['item']\n",
    "regions"
   ]
  },
  {
   "cell_type": "code",
   "execution_count": null,
   "metadata": {},
   "outputs": [],
   "source": []
  }
 ],
 "metadata": {
  "kernelspec": {
   "display_name": "Python 3",
   "language": "python",
   "name": "python3"
  },
  "language_info": {
   "codemirror_mode": {
    "name": "ipython",
    "version": 3
   },
   "file_extension": ".py",
   "mimetype": "text/x-python",
   "name": "python",
   "nbconvert_exporter": "python",
   "pygments_lexer": "ipython3",
   "version": "3.6.9"
  }
 },
 "nbformat": 4,
 "nbformat_minor": 2
}
