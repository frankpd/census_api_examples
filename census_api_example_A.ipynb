{
 "cells": [
  {
   "cell_type": "markdown",
   "metadata": {},
   "source": [
    "# Census API Example A\n",
    "Hard code variables, build a url, retrieve data, perform basic pandas operations, retrieve variable metadata.\n",
    "\n",
    "Example uses Population Estimates 2018 Vintage:\n",
    "https://www.census.gov/data/developers/data-sets/popest-popproj/popest.Vintage_2018.html\n",
    "\n",
    "Find ANSI / FIPS codes for geographies:\n",
    "* Census Bureau: https://www.census.gov/library/reference/code-lists/ansi.html\n",
    "* MCDC: https://census.missouri.edu/geocodes/"
   ]
  },
  {
   "cell_type": "markdown",
   "metadata": {},
   "source": [
    "## Set Variables and Retrieve Data"
   ]
  },
  {
   "cell_type": "code",
   "execution_count": null,
   "metadata": {},
   "outputs": [],
   "source": [
    "%matplotlib inline\n",
    "import requests, pandas as pd"
   ]
  },
  {
   "cell_type": "code",
   "execution_count": null,
   "metadata": {},
   "outputs": [],
   "source": [
    "#Set variables\n",
    "year='2018'\n",
    "dsource='pep'\n",
    "dname='components'\n",
    "cols='GEONAME,NATURALINC,DOMESTICMIG,INTERNATIONALMIG'\n",
    "state='36'\n",
    "county='005,047,061,081,085'"
   ]
  },
  {
   "cell_type": "code",
   "execution_count": null,
   "metadata": {},
   "outputs": [],
   "source": [
    "base_url = f'https://api.census.gov/data/{year}/{dsource}/{dname}'\n",
    "base_url"
   ]
  },
  {
   "cell_type": "code",
   "execution_count": null,
   "metadata": {},
   "outputs": [],
   "source": [
    "data_url = f'{base_url}?get={cols}&for=county:{county}&in=state:{state}'\n",
    "data_url"
   ]
  },
  {
   "cell_type": "code",
   "execution_count": null,
   "metadata": {},
   "outputs": [],
   "source": [
    "#Retrieve Data\n",
    "response=requests.get(data_url)\n",
    "print(response.text)"
   ]
  },
  {
   "cell_type": "code",
   "execution_count": null,
   "metadata": {},
   "outputs": [],
   "source": [
    "#Save response as json object\n",
    "data=response.json()\n",
    "data"
   ]
  },
  {
   "cell_type": "markdown",
   "metadata": {},
   "source": [
    "## Pandas Examples"
   ]
  },
  {
   "cell_type": "code",
   "execution_count": null,
   "metadata": {},
   "outputs": [],
   "source": [
    "#Convert to dataframe, perform some basic operations\n",
    "df=pd.DataFrame(data[1:], columns=data[0]).\\\n",
    "rename(columns={\"NATURALINC\": \"Natural Increase\", \"DOMESTICMIG\": \"Net Domestic Mig\", \"INTERNATIONALMIG\":\"Net Foreign Mig\"})\n",
    "df['fips']=df.state+df.county\n",
    "df.set_index('fips',inplace=True)\n",
    "df.drop(columns=['state','county'],inplace=True)\n",
    "df=df.astype(dtype={'Natural Increase':'int64','Net Domestic Mig':'int64','Net Foreign Mig':'int64'},inplace=True)\n",
    "df"
   ]
  },
  {
   "cell_type": "code",
   "execution_count": null,
   "metadata": {},
   "outputs": [],
   "source": [
    "#Total population change 2017-2018\n",
    "df.sum(axis=1)"
   ]
  },
  {
   "cell_type": "code",
   "execution_count": null,
   "metadata": {},
   "outputs": [],
   "source": [
    "#Create a basic chart\n",
    "labels=df['GEONAME'].str.split(',',expand=True)[0].str.replace('County','')\n",
    "ax=df.plot.bar(rot=0, title='Components of Population Change 2017-18')\n",
    "ax.set_xticklabels(labels)\n",
    "ax.set_xlabel('')"
   ]
  },
  {
   "cell_type": "markdown",
   "metadata": {},
   "source": [
    "## Obtain List of Variables"
   ]
  },
  {
   "cell_type": "code",
   "execution_count": null,
   "metadata": {},
   "outputs": [],
   "source": [
    "vars_url=f'https://api.census.gov/data/{year}/{dsource}/{dname}/variables.json'\n",
    "response=requests.get(vars_url)\n",
    "\n",
    "#\"variables\" is top key in the file - reference it to flatten the file so individual variables become keys \n",
    "variables=response.json()['variables']\n",
    "variables"
   ]
  },
  {
   "cell_type": "code",
   "execution_count": null,
   "metadata": {},
   "outputs": [],
   "source": [
    "#Iterate through keys and get specific sub-values\n",
    "for k,v in variables.items():\n",
    "    print(k,v['label'])"
   ]
  },
  {
   "cell_type": "code",
   "execution_count": null,
   "metadata": {},
   "outputs": [],
   "source": [
    "#Iterate even further to capture specific code lists\n",
    "regions=variables['DIVISION']['values']['item']\n",
    "regions"
   ]
  },
  {
   "cell_type": "code",
   "execution_count": null,
   "metadata": {},
   "outputs": [],
   "source": []
  }
 ],
 "metadata": {
  "kernelspec": {
   "display_name": "Python 3",
   "language": "python",
   "name": "python3"
  },
  "language_info": {
   "codemirror_mode": {
    "name": "ipython",
    "version": 3
   },
   "file_extension": ".py",
   "mimetype": "text/x-python",
   "name": "python",
   "nbconvert_exporter": "python",
   "pygments_lexer": "ipython3",
   "version": "3.7.3"
  }
 },
 "nbformat": 4,
 "nbformat_minor": 2
}
